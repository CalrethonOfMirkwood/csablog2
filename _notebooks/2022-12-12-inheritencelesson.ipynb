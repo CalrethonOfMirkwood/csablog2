{
 "cells": [
  {
   "attachments": {},
   "cell_type": "markdown",
   "metadata": {},
   "source": [
    "# Writing Classes Lesson\n",
    "\n",
    "- toc: false\n",
    "- badges: false\n",
    "- comments: true\n",
    "- categories: [jupyter]\n",
    "- image: images/chart-preview.png\n",
    "- author: Sophie Park"
   ]
  },
  {
   "cell_type": "code",
   "execution_count": 20,
   "metadata": {
    "vscode": {
     "languageId": "java"
    }
   },
   "outputs": [
    {
     "name": "stdout",
     "output_type": "stream",
     "text": [
      "Stink\n",
      "2.29\n",
      "Brown\n",
      "12\n",
      "1.31\n"
     ]
    }
   ],
   "source": [
    "public class Person {\n",
    "    private String name;\n",
    "    private double birthday;\n",
    "    private String favoritecolor;\n",
    " \n",
    "    public Person (String name, double birthday, String favoritecolor){\n",
    "       this.name = name;\n",
    "       this.birthday = birthday;\n",
    "       this.favoritecolor = favoritecolor;\n",
    "    }\n",
    " \n",
    "    public String getName(){\n",
    "       return name;\n",
    "    }\n",
    "\n",
    "    public double getBirthday() {\n",
    "        return birthday;\n",
    "    }\n",
    "\n",
    "    public String getFavoriteColor() {\n",
    "        return favoritecolor;\n",
    "    }\n",
    " }\n",
    " \n",
    "\n",
    " public class Student extends Person {\n",
    "    private int grade;\n",
    "    private double gpa;\n",
    " \n",
    "    public Student (String name, double birthday, String favoritecolor, int grade, double gpa) {\n",
    "       super(name, birthday, favoritecolor);\n",
    "       this.grade = grade;\n",
    "       this.gpa = gpa;\n",
    "    }\n",
    " \n",
    "    public int getGrade(){\n",
    "       return grade;\n",
    "    }\n",
    "\n",
    "    public double getGPA() {\n",
    "        return gpa;\n",
    "    }\n",
    " }\n",
    "\n",
    " Student stink  = new Student(\"Stink\", 2.29, \"Brown\", 12, 1.31);\n",
    " System.out.println(stink.getName());\n",
    " System.out.println(stink.getBirthday());\n",
    " System.out.println(stink.getFavoriteColor());\n",
    " System.out.println(stink.getGrade());\n",
    " System.out.println(stink.getGPA());\n",
    " "
   ]
  }
 ],
 "metadata": {
  "kernelspec": {
   "display_name": "Java",
   "language": "java",
   "name": "java"
  },
  "language_info": {
   "codemirror_mode": "java",
   "file_extension": ".jshell",
   "mimetype": "text/x-java-source",
   "name": "Java",
   "pygments_lexer": "java",
   "version": "11.0.16+8-post-Ubuntu-0ubuntu120.04"
  },
  "orig_nbformat": 4
 },
 "nbformat": 4,
 "nbformat_minor": 2
}
