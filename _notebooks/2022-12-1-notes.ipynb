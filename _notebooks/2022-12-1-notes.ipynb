{
 "cells": [
  {
   "cell_type": "markdown",
   "metadata": {},
   "source": [
    "# Notes\n",
    "\n",
    "- toc: true\n",
    "- badges: false\n",
    "- comments: true\n",
    "- categories: [jupyter]\n",
    "- image: images/chart-preview.png\n",
    "- author: Sophie Park"
   ]
  },
  {
   "cell_type": "markdown",
   "metadata": {},
   "source": [
    "# [Unit 1: Primitives](https://calrethonofmirkwood.github.io/csablog2/jupyter/2022/10/17/primitiveslesson.html)\n",
    "- Java is an object oriented language\n",
    "    - has primitive and non-primitive data types\n",
    "- Primitives vs. Non-Primitives\n",
    "\n",
    "| Primitives | Non-Primitives |\n",
    "| -- | -- |\n",
    "| predefined | done by you |\n",
    "| lowercase | Uppercase |\n",
    "| \"Primitives\" | \"Reference types\" |\n",
    "| cannot call methods | can call methods |\n",
    "| has to have value | can be null |\n",
    "| different size based on which primitive it is | all same size |\n",
    "\n",
    "Numeric operators:\n",
    "- \\+ is addition\n",
    "- \\- is subtraction\n",
    "- / is division\n",
    "- % is modulus (find remainder)\n",
    "- \\* is multiplication\n",
    "- [variable name]++ adds 1 to the variable\n",
    "    - handy for loops\n",
    "- [variable name]+=[number] adds [number] to the variable\n",
    "- [variable name]-=[number] subtracts [number] from the variable"
   ]
  },
  {
   "cell_type": "code",
   "execution_count": 2,
   "metadata": {
    "vscode": {
     "languageId": "java"
    }
   },
   "outputs": [
    {
     "name": "stdout",
     "output_type": "stream",
     "text": [
      "a is 5\n",
      "b is 25\n",
      "c is -20\n"
     ]
    }
   ],
   "source": [
    "char demoChar = 'h'; //\n",
    "String demoString = \"hihihello\"; // uppercase, so non-primitive reference type!\n",
    "\n",
    "// strings are collections of the primitive char data type\n",
    "\n",
    "// Demo of ++\n",
    "int a, b, c = 0;\n",
    "for (int i=0; i<5; i++) { // loop repeats while i is less than 5, i increases by one after every iteration\n",
    "    a++; // should add 1 five times\n",
    "    b+=5; // should add 5 five times\n",
    "    c-=4; // should subtract 4 five times\n",
    "}\n",
    "\n",
    "// check to see if it worked\n",
    "System.out.println(\"a is \"+a);\n",
    "System.out.println(\"b is \"+b);\n",
    "System.out.println(\"c is \"+c);"
   ]
  },
  {
   "cell_type": "markdown",
   "metadata": {},
   "source": [
    "# [Unit 2](https://calrethonofmirkwood.github.io/csablog/jupyter/2022/10/18/objectslesson.html)\n",
    "\n",
    "- Object-oriented programming (OOP) is a programming paradigm that organizes software design around objects\n",
    "    - Data and functions that operate on said data are bound together\n",
    "- Classes are **template** from which objects are created\n",
    "- Objects are **instances** of a class\n",
    "- **Functions**, or methods, are sets of code that perform a specific task\n",
    "- The generic class **fruit** could contain objects like **apple**, **banana**, **orange**, etc.\n",
    "    - Class to object : Bird to duck\n",
    "- Classes have **contstructors**, the parts of the class that make an object when called"
   ]
  },
  {
   "cell_type": "markdown",
   "metadata": {},
   "source": [
    "# [Unit 3: Boolean Expressions and If Statements](https://calrethonofmirkwood.github.io/csablog2/jupyter/2022/10/18/booleanlesson.html)\n",
    "\n",
    "\n",
    "### IF, IF/ELSE, Boolean Statments, and Logic Gates\n",
    "- An **If** statement is a conditional statement that, when true, runs the code inside the statement."
   ]
  },
  {
   "cell_type": "code",
   "execution_count": 3,
   "metadata": {
    "vscode": {
     "languageId": "java"
    }
   },
   "outputs": [
    {
     "name": "stdout",
     "output_type": "stream",
     "text": [
      "Hi\n",
      "Hello\n"
     ]
    }
   ],
   "source": [
    "// runs if true\n",
    "if (true) System.out.println(\"Hi\");\n",
    "\n",
    "//true and not false so system prints out \"Hello\"\n",
    "if (true && !false)  System.out.println(\"Hello\");"
   ]
  },
  {
   "cell_type": "markdown",
   "metadata": {},
   "source": [
    "- **If/Else** statements run If, and if If is not true, then Else is run\n",
    "    - Can be stacked as so:"
   ]
  },
  {
   "cell_type": "code",
   "execution_count": 4,
   "metadata": {
    "vscode": {
     "languageId": "java"
    }
   },
   "outputs": [
    {
     "name": "stdout",
     "output_type": "stream",
     "text": [
      "Less than 10\n"
     ]
    }
   ],
   "source": [
    "int x = 9;\n",
    "\n",
    "//false conditions until last else if statement so that one runs\n",
    "if (x<2) System.out.println(\"Less than 2\");\n",
    "else if (x<4) System.out.println(\"Less than 4\");\n",
    "else if (x<6) System.out.println(\"Less than 6\");\n",
    "else if (x<8) System.out.println(\"Less than 8\");\n",
    "else if (x<10) System.out.println(\"Less than 10\");\n",
    "else System.out.println(\"Greater than or equal to 10\");"
   ]
  },
  {
   "cell_type": "markdown",
   "metadata": {},
   "source": [
    "- **Switch** statements do same thing as if statement (control flow), but faster and more effectively"
   ]
  },
  {
   "cell_type": "code",
   "execution_count": 7,
   "metadata": {
    "vscode": {
     "languageId": "java"
    }
   },
   "outputs": [
    {
     "name": "stdout",
     "output_type": "stream",
     "text": [
      "choose an integer 1-5: \n",
      "5\n",
      "\n",
      "you chose five\n"
     ]
    }
   ],
   "source": [
    "Scanner inputStream = new Scanner(System.in);\n",
    "String userInputStr;\n",
    "int choice;\n",
    "\n",
    "System.out.println(\"choose an integer 1-5: \");\n",
    "userInputStr = inputStream.nextLine();\n",
    "choice = Integer.parseInt(userInputStr);\n",
    "System.out.println(choice);\n",
    "\n",
    "switch (choice) {  //based on what the user inputted for the choice variable, different cases will run\n",
    "    case 1:\n",
    "        System.out.println(\"\\nyou chose one\");\n",
    "        break;\n",
    "    case 2:\n",
    "        System.out.println(\"\\nyou chose two\");\n",
    "        break;\n",
    "    case 3:\n",
    "        System.out.println(\"\\nyou chose three\");\n",
    "        break; //default prevents it from moving on to and running the following cases\n",
    "    case 4:\n",
    "        System.out.println(\"\\nyou chose four\");\n",
    "        break;\n",
    "    case 5:\n",
    "        System.out.println(\"\\nyou chose five\");\n",
    "        break;\n",
    "    default:  \n",
    "        System.out.println(\"invalid input\");  \n",
    "}"
   ]
  },
  {
   "cell_type": "markdown",
   "metadata": {},
   "source": [
    "- **Boolean expressions** are statements that are either **true** or **false**\n",
    "- Boolean expressions can be used in if statements\n",
    "- Several operators: <, >, >=, <=, =="
   ]
  },
  {
   "cell_type": "code",
   "execution_count": 10,
   "metadata": {
    "vscode": {
     "languageId": "java"
    }
   },
   "outputs": [
    {
     "name": "stdout",
     "output_type": "stream",
     "text": [
      "1st case is true\n",
      "2nd case is true\n",
      "3rd case is true\n"
     ]
    }
   ],
   "source": [
    "if (45==45) System.out.println(\"1st case is true\"); // use two = rather than one to test equality\n",
    "if (45 > 2) System.out.println(\"2nd case is true\");\n",
    "if (45>=45) System.out.println(\"3rd case is true\");"
   ]
  },
  {
   "cell_type": "markdown",
   "metadata": {},
   "source": [
    "- Logic gates carry out logical operations\n",
    "    - Binary input, binary output\n",
    "    - In actual hardware of computers\n",
    "\n",
    "![logic gates](https://i.stack.imgur.com/UAhJq.png))\n",
    "\n",
    "\n",
    "### De Morgan's Law\n",
    "\n",
    "Can you explain why the below code doesn't print anything?"
   ]
  },
  {
   "cell_type": "code",
   "execution_count": 15,
   "metadata": {
    "vscode": {
     "languageId": "java"
    }
   },
   "outputs": [],
   "source": [
    "// ps. what the booleans are set to are irrelevent\n",
    "Boolean amogi = true;\n",
    "Boolean banan = false;\n",
    "\n",
    "if ( !(amogi && banan) == (!amogi && !banan) ) { // why are the two conditions not equal?\n",
    "    System.out.print(\"wait what?\");  // why is it not printing?\n",
    "}"
   ]
  },
  {
   "cell_type": "markdown",
   "metadata": {},
   "source": [
    "De Morgan's law is a logical rule which states that the negation of a disjunction is the conjunction of the negations (and the converse that the negation of a conjunction is the disjunction of the negations).\n",
    "\n",
    "In other words, this means that:\n",
    "\n",
    "`not (A or B) = (not A) and (not B)'\n",
    "\n",
    "And the converse: `not (A and B) = (not A) or (not B)'\n",
    "\n",
    "Let's test De Morgan's law out:"
   ]
  },
  {
   "cell_type": "code",
   "execution_count": 13,
   "metadata": {
    "vscode": {
     "languageId": "java"
    }
   },
   "outputs": [
    {
     "name": "stdout",
     "output_type": "stream",
     "text": [
      "huh\n",
      "wow this really works huh"
     ]
    }
   ],
   "source": [
    "// set booleans\n",
    "Boolean amogi = true;\n",
    "Boolean banan = false;\n",
    "\n",
    "if ( !(amogi || banan) == (!amogi && !banan) ){\n",
    "    System.out.println(\"huh\");\n",
    "}\n",
    "\n",
    "if ( !(amogi && banan) == (!amogi || !banan) ){\n",
    "    System.out.print(\"wow this really works huh\");\n",
    "}"
   ]
  },
  {
   "cell_type": "markdown",
   "metadata": {},
   "source": [
    "# Unit 7: ArrayLists\n",
    "- ArrayList is reference type (mutuable and contains object references)\n",
    "    - Arrays cannot be changed\n",
    "- ArrayLists have special functions:\n",
    "\n",
    "| Function | Description |\n",
    "| - | --- |\n",
    "| add(int index, element) | This method is used to add an element at a particular index in the list. |\n",
    "| addAll(int index, Collection collection) | This method is used to add all the elements in the given collection to the list. |\n",
    "| size() | This method is used to return the size of the list. |\n",
    "| clear() | This method is used to remove all the elements in the list. |\n",
    "| remove(element or int index) | This method removes an element from the specified index. |\n",
    "| get(int index) | This method returns elements at the specified index. |\n",
    "| isEmpty() | Returns true if the list is empty, else false. |\n",
    "| sort(Comparator comp) | This method is used to sort the elements of the list on the basis of the given comparator. |\n",
    "\n",
    "- Can use `:` in ArrayLists to transverse lenght of list and use object as \n",
    "\n"
   ]
  }
 ],
 "metadata": {
  "kernelspec": {
   "display_name": "Java",
   "language": "java",
   "name": "java"
  },
  "language_info": {
   "codemirror_mode": "java",
   "file_extension": ".jshell",
   "mimetype": "text/x-java-source",
   "name": "Java",
   "pygments_lexer": "java",
   "version": "11.0.16+8-post-Ubuntu-0ubuntu120.04"
  },
  "orig_nbformat": 4,
  "vscode": {
   "interpreter": {
    "hash": "916dbcbb3f70747c44a77c7bcd40155683ae19c65e1c03b4aa3499c5328201f1"
   }
  }
 },
 "nbformat": 4,
 "nbformat_minor": 2
}
