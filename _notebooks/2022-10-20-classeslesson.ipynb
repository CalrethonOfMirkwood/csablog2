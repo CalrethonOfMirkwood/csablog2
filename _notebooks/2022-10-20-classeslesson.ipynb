{
 "cells": [
  {
   "cell_type": "markdown",
   "metadata": {},
   "source": [
    "# Writing Classes Lesson\n",
    "\n",
    "- toc: false\n",
    "- badges: false\n",
    "- comments: true\n",
    "- categories: [jupyter]\n",
    "- image: images/chart-preview.png\n",
    "- author: Sophie Park"
   ]
  },
  {
   "cell_type": "markdown",
   "metadata": {},
   "source": [
    "# 2021 FRA 1a"
   ]
  },
  {
   "cell_type": "code",
   "execution_count": null,
   "metadata": {},
   "outputs": [],
   "source": [
    "public class WordMatch {\n",
    "    String secret;\n",
    "\n",
    "    public WordMatch(String secret) {\n",
    "        this.secret = secret;\n",
    "    }\n",
    "\n",
    "    public void scoreGuess(String guess) {\n",
    "        int counter = 0;\n",
    "\n",
    "        // for loop for first substring index\n",
    "        for (int i = 0; i < this.secret.length(); i++){\n",
    "            // loop for second substring index\n",
    "            for (int j = i + 1; j < this.secret.length() + 1; j++) {\n",
    "                // if statement\n",
    "                if (guess.equals(this.secret.substring(i,j))) {\n",
    "                    counter++;\n",
    "                }\n",
    "            }\n",
    "        }\n",
    "\n",
    "        // Returning a point value\n",
    "        int points = counter * guess.length() * guess.length();\n",
    "        System.out.println(\"\" + guess + \" = \" + points);\n",
    "        // return points;\n",
    "    }\n",
    "}\n",
    "\n",
    "WordMatch game = new WordMatch(\"mississippi\");\n",
    "game.scoreGuess(\"i\"); game.scoreGuess(\"iss\"); game.scoreGuess(\"issipp\"); game.scoreGuess(\"mississippi\");\n",
    "\n",
    "WordMatch game = new WordMatch(\"aaaabb\");\n",
    "game.scoreGuess(\"a\"); game.scoreGuess(\"aa\"); game.scoreGuess(\"aaa\"); game.scoreGuess(\"aabb\"); game.scoreGuess(\"c\");"
   ]
  },
  {
   "cell_type": "markdown",
   "metadata": {},
   "source": [
    "# 2021 FRQ 3a"
   ]
  },
  {
   "cell_type": "code",
   "execution_count": null,
   "metadata": {},
   "outputs": [],
   "source": [
    "public class ClubMembers {\n",
    "    private ArrayList<MemberInfo> memberList;\n",
    "\n",
    "    public void addMembers(String[] names, int gradYear) {\n",
    "        for(name : names) {\n",
    "            memberList.add(new MemberInfo(name, gradYear, true));\n",
    "        }\n",
    "    }\n",
    "}"
   ]
  }
 ],
 "metadata": {
  "kernelspec": {
   "display_name": "Java",
   "language": "java",
   "name": "java"
  },
  "language_info": {
   "name": "java",
   "version": "3.8.10"
  },
  "orig_nbformat": 4,
  "vscode": {
   "interpreter": {
    "hash": "916dbcbb3f70747c44a77c7bcd40155683ae19c65e1c03b4aa3499c5328201f1"
   }
  }
 },
 "nbformat": 4,
 "nbformat_minor": 2
}
