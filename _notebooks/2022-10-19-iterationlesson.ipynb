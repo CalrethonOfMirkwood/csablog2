{
 "cells": [
  {
   "cell_type": "markdown",
   "metadata": {},
   "source": [
    "# Iteration Lesson\n",
    "\n",
    "- toc: false\n",
    "- badges: false\n",
    "- comments: true\n",
    "- categories: [jupyter]\n",
    "- image: images/chart-preview.png\n",
    "- author: Sophie Park"
   ]
  },
  {
   "cell_type": "code",
   "execution_count": 10,
   "metadata": {
    "vscode": {
     "languageId": "java"
    }
   },
   "outputs": [],
   "source": [
    "import java.util.Scanner;\n",
    "\n",
    "public class Checker \n",
    "{\n",
    "    public static void main(String[] args) \n",
    "    {\n",
    "        int number;  \n",
    "\t\n",
    "        // Create a Scanner object for keyboard input.  \n",
    "        Scanner keyboard = new Scanner(System.in);  \n",
    "             \n",
    "        // Get a number from the user.  \n",
    "        System.out.print(\"Enter a number in the range of 1 through 100: \");  \n",
    "        number = keyboard.nextInt();  \n",
    "\n",
    "        while ((number > 100 || number < 1))\n",
    "        {  \n",
    "           System.out.print(\"Invalid input. Enter a number in the range \" +  \n",
    "                            \"of 1 through 100: \");  \n",
    "           number = keyboard.nextInt();  \n",
    "        } \n",
    "    }\n",
    "}"
   ]
  },
  {
   "cell_type": "code",
   "execution_count": 11,
   "metadata": {
    "vscode": {
     "languageId": "java"
    }
   },
   "outputs": [
    {
     "name": "stdout",
     "output_type": "stream",
     "text": [
      "count is 1\n",
      "count is 2\n",
      "count is 3\n",
      "count is 4\n",
      "count is 5\n"
     ]
    }
   ],
   "source": [
    "public class LoopConversion \n",
    "{\n",
    "    public static void main(String[] args) \n",
    "    {\n",
    "        int count = 0;\n",
    "        //convert to for loop\n",
    "        for(int i = 0;i < 5; i++){\n",
    "            System.out.println(\"count is \" + ++count);\n",
    "        }\n",
    "    }\n",
    "}\n",
    "\n",
    "LoopConversion.main(null);"
   ]
  },
  {
   "cell_type": "code",
   "execution_count": 12,
   "metadata": {
    "vscode": {
     "languageId": "java"
    }
   },
   "outputs": [
    {
     "name": "stdout",
     "output_type": "stream",
     "text": [
      "0\n",
      "1\n",
      "2\n",
      "3\n",
      "4\n",
      "5\n",
      "0\n",
      "1\n",
      "2\n",
      "3\n",
      "4\n",
      "5\n",
      "0\n",
      "1\n",
      "2\n",
      "3\n",
      "4\n",
      "5\n"
     ]
    }
   ],
   "source": [
    "for(int i = 0;i < 6;i++){\n",
    "    System.out.println(i);\n",
    "}\n",
    "\n",
    "int j = 0;\n",
    "while(j<6){\n",
    "    System.out.println(j);\n",
    "    j++;\n",
    "}\n",
    "public void recursionTry(int num){\n",
    "    System.out.println(num);\n",
    "    num++;\n",
    "    if (num < 6) {\n",
    "        recursionTry(num);\n",
    "    }\n",
    "}\n",
    "\n",
    "recursionTry(0);"
   ]
  },
  {
   "cell_type": "markdown",
   "metadata": {},
   "source": [
    "Homework prompt "
   ]
  },
  {
   "cell_type": "code",
   "execution_count": 4,
   "metadata": {
    "vscode": {
     "languageId": "java"
    }
   },
   "outputs": [
    {
     "name": "stdout",
     "output_type": "stream",
     "text": [
      "### NUMBER GUESSING GAME ###\n",
      "Choose minimum number: 1\n",
      "Choose maximum number: 100\n",
      "Choose no. of tries: 10\n",
      "Try 1 of 10\n",
      "Guess a number from 1 to 100: \n",
      "50, guess is too high\n",
      "Try 2 of 10\n",
      "Guess a number from 1 to 100: \n",
      "25, guess is too low\n",
      "Try 3 of 10\n",
      "Guess a number from 1 to 100: \n",
      "35, guess is too low\n",
      "Try 4 of 10\n",
      "Guess a number from 1 to 100: \n",
      "40, guess is too low\n",
      "Try 5 of 10\n",
      "Guess a number from 1 to 100: \n",
      "45, guess is too low\n",
      "Try 6 of 10\n",
      "Guess a number from 1 to 100: \n",
      "47, that's right!\n",
      "You lost, the answer was 47\n"
     ]
    }
   ],
   "source": [
    "import java.util.*;\n",
    "import java.lang.Math;\n",
    "\n",
    "public class guessNumber {\n",
    "    private boolean correct = false;\n",
    "    private int min, max, num, tries, count, guess = 0;\n",
    "\n",
    "    public void guess(){\n",
    "\n",
    "        System.out.println(\"### NUMBER GUESSING GAME ###\");\n",
    "\n",
    "        Scanner sc = new Scanner(System.in);\n",
    "        System.out.print(\"Choose minimum number: \");\n",
    "        min = sc.nextInt();\n",
    "        System.out.println(min);\n",
    "        System.out.print(\"Choose maximum number: \");\n",
    "        max = sc.nextInt();\n",
    "        System.out.println(max);\n",
    "        System.out.print(\"Choose no. of tries: \");\n",
    "        tries = sc.nextInt();\n",
    "        System.out.println(tries);\n",
    "\n",
    "        num = ThreadLocalRandom.current().nextInt(min, max + 1);\n",
    "        \n",
    "        int count = 0;\n",
    "\n",
    "        for (int i=0; i<tries; i++){\n",
    "            count++;\n",
    "            System.out.println(\"Try \"+(i+1)+\" of \"+tries);\n",
    "            System.out.println(\"Guess a number from \"+min+\" to \"+max+\": \");\n",
    "            guess = sc.nextInt();\n",
    "            System.out.print(guess + \", \");\n",
    "            if (guess == num) {\n",
    "                System.out.println(\"that's right!\");\n",
    "                break;\n",
    "            }\n",
    "            else if (num < guess) System.out.println(\"guess is too high\");\n",
    "            else if (num > guess) System.out.println(\"guess is too low\");\n",
    "        }\n",
    "        \n",
    "        if (correct) {\n",
    "            System.out.println(\"Congratulations, you won the game in \"+count+\"tries!\");\n",
    "        }\n",
    "        else System.out.println(\"You lost, the answer was \"+num);\n",
    "\n",
    "    }\n",
    "\n",
    "    public void guess(int num){\n",
    "        \n",
    "        \n",
    "    }\n",
    "}\n",
    "\n",
    "guessNumber run = new guessNumber();\n",
    "run.guess();"
   ]
  }
 ],
 "metadata": {
  "kernelspec": {
   "display_name": "Java",
   "language": "java",
   "name": "java"
  },
  "language_info": {
   "codemirror_mode": "java",
   "file_extension": ".jshell",
   "mimetype": "text/x-java-source",
   "name": "Java",
   "pygments_lexer": "java",
   "version": "11.0.16+8-post-Ubuntu-0ubuntu120.04"
  },
  "orig_nbformat": 4
 },
 "nbformat": 4,
 "nbformat_minor": 2
}
