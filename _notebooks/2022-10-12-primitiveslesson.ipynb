{
 "cells": [
  {
   "attachments": {},
   "cell_type": "markdown",
   "metadata": {},
   "source": [
    "# Unit 1: Primitives Lesson\n",
    "> us\n",
    "\n",
    "- toc: true \n",
    "- badges: false\n",
    "- comments: true\n",
    "- categories: [jupyter]\n",
    "- image: images/chart-preview.png\n",
    "- author: ???"
   ]
  },
  {
   "cell_type": "markdown",
   "metadata": {},
   "source": [
    "# Presentation Hacks"
   ]
  },
  {
   "cell_type": "code",
   "execution_count": 1,
   "metadata": {},
   "outputs": [
    {
     "name": "stdout",
     "output_type": "stream",
     "text": [
      "696458120"
     ]
    }
   ],
   "source": [
    "// Hack 3 \n",
    "int val = 205;\n",
    "for(int i=0; i<5; i++) {\n",
    "    val/=2;\n",
    "}\n",
    "System.out.print(val);\n",
    "\n",
    "// Hack 4\n",
    "int i = 3;\n",
    "for(int j = 5;j > 0; j--){\n",
    "    i+=i;\n",
    "}\n",
    "System.out.print(i);\n",
    "\n",
    "// Hack 5\n",
    "int i = 100;\n",
    "double d = 4.55; double d2 = 3.75;\n",
    "int j = (int) (d*100 + d2);\n",
    "\n",
    "System.out.print(j);\n",
    "\n",
    "// Hack 6\n",
    "int i = 5; int p =27;\n",
    "for(int l = 23; l <p; l++){\n",
    "    i*=(l-22);\n",
    "}\n",
    "System.out.print(i);"
   ]
  },
  {
   "cell_type": "markdown",
   "metadata": {},
   "source": [
    "# FRQ 2006 - 2a,3a"
   ]
  },
  {
   "cell_type": "code",
   "execution_count": 2,
   "metadata": {},
   "outputs": [
    {
     "data": {
      "text/plain": [
       "7.15"
      ]
     },
     "execution_count": 2,
     "metadata": {},
     "output_type": "execute_result"
    }
   ],
   "source": [
    "// 2A\n",
    "public double purchasePrice(double x){\n",
    "    x *= 1.1; \n",
    "    return x;\n",
    "}\n",
    "\n",
    "purchasePrice(6.50);"
   ]
  },
  {
   "cell_type": "code",
   "execution_count": 3,
   "metadata": {},
   "outputs": [
    {
     "name": "stdout",
     "output_type": "stream",
     "text": [
      "0\n",
      "-1\n",
      "-2\n"
     ]
    }
   ],
   "source": [
    "\n",
    "\n",
    "// 3A\n",
    "public class Customer {\n",
    "    private String name;\n",
    "    private int id;\n",
    "    \n",
    "    public Customer(String name, int idNum){\n",
    "        this.name = name;\n",
    "        this.id = idNum;\n",
    "        // idNum = this.idNum;\n",
    "    };\n",
    "\n",
    "    public String getName(){\n",
    "        return name;\n",
    "    };\n",
    "\n",
    "    public int getID(){\n",
    "        return id;\n",
    "    };\n",
    "\n",
    "    public void compareCustomer(Customer x){\n",
    "        System.out.println(id - x.id);\n",
    "        // return (id - x.id);\n",
    "    };\n",
    "    \n",
    "}\n",
    "\n",
    "Customer c1 = new Customer(\"Smith\", 1001);\n",
    "Customer c2 = new Customer(\"Anderson\", 1002);\n",
    "Customer c3 = new Customer(\"Smith\", 1003);\n",
    "\n",
    "c1.compareCustomer(c1);\n",
    "c1.compareCustomer(c2);\n",
    "c1.compareCustomer(c3);"
   ]
  }
 ],
 "metadata": {
  "kernelspec": {
   "display_name": "Java",
   "language": "java",
   "name": "java"
  },
  "language_info": {
   "codemirror_mode": "java",
   "file_extension": ".jshell",
   "mimetype": "text/x-java-source",
   "name": "java",
   "pygments_lexer": "java",
   "version": "11.0.16+8-post-Ubuntu-0ubuntu120.04"
  },
  "orig_nbformat": 4,
  "vscode": {
   "interpreter": {
    "hash": "916dbcbb3f70747c44a77c7bcd40155683ae19c65e1c03b4aa3499c5328201f1"
   }
  }
 },
 "nbformat": 4,
 "nbformat_minor": 2
}
