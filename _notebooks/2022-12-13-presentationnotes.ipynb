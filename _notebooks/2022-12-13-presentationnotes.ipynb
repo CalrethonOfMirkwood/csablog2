{
 "cells": [
  {
   "cell_type": "markdown",
   "metadata": {},
   "source": [
    "# 12/13 CS/Technical Buisness Notes\n",
    "\n",
    "- toc: false\n",
    "- badges: false\n",
    "- comments: true\n",
    "- categories: [jupyter]\n",
    "- image: images/chart-preview.png\n",
    "- author: Sophie Park"
   ]
  },
  {
   "cell_type": "markdown",
   "metadata": {},
   "source": [
    "Both met Mr. Mort through Qualcomm\n",
    "\n",
    "## Kathyleen Beveridge\n",
    "- Pretty much autobiography\n",
    "- Born in Vietnam, moved to SoCal\n",
    "- Sr. Director Global Commercial & Marketing Operations at Thermo Fisher Scientific\n",
    "    - Also worked at Hewlett-Packard and Qualcomm\n",
    "- *Every career helps others*\n",
    "- Current career evolution is quite different from original major\n",
    "- **Continuous learning** as career evolves\n",
    "\n",
    "## Kris Porter\n",
    "- Currently works at Twitter\n",
    "- Graduated from UCLA\n",
    "    - First CS class was in second quarter of first year, he failed the first class but retook it and succeeded because of **continuous effort**\n",
    "- Post-bachelor research was hierable leverage (is there such thing as a personal UVP?)\n",
    "- Twitter can search through your entire post history (including images) and create a suggestion list in 200 miliseconds\n",
    "- **Continuous learning**:\n",
    "    - Twitter university\n",
    "    - Cisco CCNA\n",
    "    - Python Udemy course\n",
    "    - Learned machine learning and deep learning at Qualcomm\n",
    "- Literally just learning how to work at Twitter for 3 weeks\n",
    "\n",
    "# Common Points\n",
    "- ***CONTINUOUS LEARNING***\n",
    "    - NEVER STOP LEARNING\n",
    "    - EVERY SECOND OF THE DAY YOU ARE LEARNING\n",
    "    - HAVE YOU LEARNED ANYTHING NEW TODAY??!??!\n",
    "        - NO? GO LEARN SOMETHING!!!\n",
    "        - YES? ALSO GO LEARN SOMETHING!!!\n",
    "    - Tech career paths are especially supportive of, arguably even require, continuous learning\n",
    "- ***Benefit Others***\n",
    "    - Both speakers' work (debatably) improved the lives of others\n",
    "    - Qualcomm products are used by millions of people daily\n",
    "    - Same for Twitter\n",
    "\n",
    "# Takeaway\n",
    "To be honest I'm not particularly interested in any office job but learning about CS general was a valuable experience, especially the idea of continuous leanring.  It's particularly important in CS, but every industry requires flexibility and new learning to some degree.  So is collaboration, another thing that I should take note of."
   ]
  }
 ],
 "metadata": {
  "kernelspec": {
   "display_name": "Java",
   "language": "java",
   "name": "java"
  },
  "language_info": {
   "name": "java",
   "version": "3.9.5"
  },
  "orig_nbformat": 4,
  "vscode": {
   "interpreter": {
    "hash": "3883fcf7adaac21bb0e1105107d584edf5a13c8b0f81de298d4a049ca6e40fff"
   }
  }
 },
 "nbformat": 4,
 "nbformat_minor": 2
}
