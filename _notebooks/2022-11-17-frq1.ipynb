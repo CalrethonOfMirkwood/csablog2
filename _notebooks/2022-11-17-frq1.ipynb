{
 "cells": [
  {
   "cell_type": "markdown",
   "metadata": {},
   "source": [
    "# Tri 2 FRQ 2019#1\n",
    "\n",
    "- toc: true\n",
    "- badges: false\n",
    "- comments: true\n",
    "- categories: [jupyter]\n",
    "- image: images/chart-preview.png\n",
    "- author: Sophie Park\n"
   ]
  },
  {
   "cell_type": "markdown",
   "metadata": {},
   "source": [
    "# 2019 FRQ 1\n",
    "### a) Write the static method `numberOfLeapYears`"
   ]
  },
  {
   "cell_type": "code",
   "execution_count": 1,
   "metadata": {
    "vscode": {
     "languageId": "java"
    }
   },
   "outputs": [],
   "source": [
    "public static int numberofLeapYears(int year1, int year2) {\n",
    "    int count = 0;\n",
    "    \n",
    "    for(int i = year1; i<=year2; i++){\n",
    "        if (i%4 == 0 || i% 100 == 0 || i%400 == 0) count++;\n",
    "    }\n",
    "\n",
    "    return count;\n",
    "}"
   ]
  },
  {
   "cell_type": "markdown",
   "metadata": {},
   "source": [
    "### b) Write the static method `dayOfWeek`"
   ]
  },
  {
   "cell_type": "code",
   "execution_count": 2,
   "metadata": {
    "vscode": {
     "languageId": "java"
    }
   },
   "outputs": [],
   "source": [
    "public static int dayofWeek(int month, int day, int year) {\n",
    "\n",
    "    // assuming that both firstDayOfYear and dayOfYear are functional\n",
    "    int firstDay = firstDayOfYear(year);\n",
    "    int numDays = dayOfYear(month, day, year);\n",
    "\n",
    "    int dayOfWeek = (firstDay + numDays - 1) % 7;\n",
    "    \n",
    "    return dayOfWeek;\n",
    "}"
   ]
  }
 ],
 "metadata": {
  "kernelspec": {
   "display_name": "Java",
   "language": "java",
   "name": "java"
  },
  "language_info": {
   "codemirror_mode": "java",
   "file_extension": ".jshell",
   "mimetype": "text/x-java-source",
   "name": "Java",
   "pygments_lexer": "java",
   "version": "11.0.16+8-post-Ubuntu-0ubuntu120.04"
  },
  "orig_nbformat": 4,
  "vscode": {
   "interpreter": {
    "hash": "916dbcbb3f70747c44a77c7bcd40155683ae19c65e1c03b4aa3499c5328201f1"
   }
  }
 },
 "nbformat": 4,
 "nbformat_minor": 2
}
